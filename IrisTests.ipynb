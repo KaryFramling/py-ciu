{
 "cells": [
  {
   "cell_type": "code",
   "execution_count": 1,
   "metadata": {},
   "outputs": [],
   "source": [
    "import pandas as pd\n",
    "import numpy as np\n",
    "import matplotlib as plt\n",
    "from sklearn.model_selection import train_test_split\n",
    "from sklearn import datasets\n",
    "from sklearn.discriminant_analysis import LinearDiscriminantAnalysis\n",
    "import ciu as ciu\n",
    "\n",
    "iris=datasets.load_iris()\n",
    "\n",
    "df = pd.DataFrame(data = np.c_[iris['data'], iris['target']],\n",
    "              columns = iris['feature_names'] + ['target'])\n",
    "df['species'] = pd.Categorical.from_codes(iris.target, iris.target_names)\n",
    "df.columns = ['s_length', 's_width', 'p_length', 'p_width', 'target', 'species']\n",
    "iris_outnames = df['species'].cat.categories.tolist()\n",
    "iris_df = df.apply(pd.to_numeric, errors='ignore')\n",
    "iris_input_names = df.columns[range(4)]\n",
    "X = df[iris_input_names]\n",
    "y = df['species']\n",
    "X_train, X_test, y_train, y_test = train_test_split(X, y, test_size=0.3, random_state=123)"
   ]
  },
  {
   "cell_type": "markdown",
   "metadata": {},
   "source": [
    "print (iris['feature_names'])\n",
    "df = pd.DataFrame({'mins': iris_df[iris_input_names].min(), 'maxs': iris_df[iris_input_names].max()})\n",
    "print(df)\n",
    "print(df.index)\n",
    "print(df.columns)\n",
    "print(df.loc['s_width'][['mins']])\n",
    "print(df[['mins']])"
   ]
  },
  {
   "cell_type": "code",
   "execution_count": 2,
   "metadata": {},
   "outputs": [
    {
     "data": {
      "text/html": [
       "<style>#sk-container-id-1 {color: black;}#sk-container-id-1 pre{padding: 0;}#sk-container-id-1 div.sk-toggleable {background-color: white;}#sk-container-id-1 label.sk-toggleable__label {cursor: pointer;display: block;width: 100%;margin-bottom: 0;padding: 0.3em;box-sizing: border-box;text-align: center;}#sk-container-id-1 label.sk-toggleable__label-arrow:before {content: \"▸\";float: left;margin-right: 0.25em;color: #696969;}#sk-container-id-1 label.sk-toggleable__label-arrow:hover:before {color: black;}#sk-container-id-1 div.sk-estimator:hover label.sk-toggleable__label-arrow:before {color: black;}#sk-container-id-1 div.sk-toggleable__content {max-height: 0;max-width: 0;overflow: hidden;text-align: left;background-color: #f0f8ff;}#sk-container-id-1 div.sk-toggleable__content pre {margin: 0.2em;color: black;border-radius: 0.25em;background-color: #f0f8ff;}#sk-container-id-1 input.sk-toggleable__control:checked~div.sk-toggleable__content {max-height: 200px;max-width: 100%;overflow: auto;}#sk-container-id-1 input.sk-toggleable__control:checked~label.sk-toggleable__label-arrow:before {content: \"▾\";}#sk-container-id-1 div.sk-estimator input.sk-toggleable__control:checked~label.sk-toggleable__label {background-color: #d4ebff;}#sk-container-id-1 div.sk-label input.sk-toggleable__control:checked~label.sk-toggleable__label {background-color: #d4ebff;}#sk-container-id-1 input.sk-hidden--visually {border: 0;clip: rect(1px 1px 1px 1px);clip: rect(1px, 1px, 1px, 1px);height: 1px;margin: -1px;overflow: hidden;padding: 0;position: absolute;width: 1px;}#sk-container-id-1 div.sk-estimator {font-family: monospace;background-color: #f0f8ff;border: 1px dotted black;border-radius: 0.25em;box-sizing: border-box;margin-bottom: 0.5em;}#sk-container-id-1 div.sk-estimator:hover {background-color: #d4ebff;}#sk-container-id-1 div.sk-parallel-item::after {content: \"\";width: 100%;border-bottom: 1px solid gray;flex-grow: 1;}#sk-container-id-1 div.sk-label:hover label.sk-toggleable__label {background-color: #d4ebff;}#sk-container-id-1 div.sk-serial::before {content: \"\";position: absolute;border-left: 1px solid gray;box-sizing: border-box;top: 0;bottom: 0;left: 50%;z-index: 0;}#sk-container-id-1 div.sk-serial {display: flex;flex-direction: column;align-items: center;background-color: white;padding-right: 0.2em;padding-left: 0.2em;position: relative;}#sk-container-id-1 div.sk-item {position: relative;z-index: 1;}#sk-container-id-1 div.sk-parallel {display: flex;align-items: stretch;justify-content: center;background-color: white;position: relative;}#sk-container-id-1 div.sk-item::before, #sk-container-id-1 div.sk-parallel-item::before {content: \"\";position: absolute;border-left: 1px solid gray;box-sizing: border-box;top: 0;bottom: 0;left: 50%;z-index: -1;}#sk-container-id-1 div.sk-parallel-item {display: flex;flex-direction: column;z-index: 1;position: relative;background-color: white;}#sk-container-id-1 div.sk-parallel-item:first-child::after {align-self: flex-end;width: 50%;}#sk-container-id-1 div.sk-parallel-item:last-child::after {align-self: flex-start;width: 50%;}#sk-container-id-1 div.sk-parallel-item:only-child::after {width: 0;}#sk-container-id-1 div.sk-dashed-wrapped {border: 1px dashed gray;margin: 0 0.4em 0.5em 0.4em;box-sizing: border-box;padding-bottom: 0.4em;background-color: white;}#sk-container-id-1 div.sk-label label {font-family: monospace;font-weight: bold;display: inline-block;line-height: 1.2em;}#sk-container-id-1 div.sk-label-container {text-align: center;}#sk-container-id-1 div.sk-container {/* jupyter's `normalize.less` sets `[hidden] { display: none; }` but bootstrap.min.css set `[hidden] { display: none !important; }` so we also need the `!important` here to be able to override the default hidden behavior on the sphinx rendered scikit-learn.org. See: https://github.com/scikit-learn/scikit-learn/issues/21755 */display: inline-block !important;position: relative;}#sk-container-id-1 div.sk-text-repr-fallback {display: none;}</style><div id=\"sk-container-id-1\" class=\"sk-top-container\"><div class=\"sk-text-repr-fallback\"><pre>LinearDiscriminantAnalysis()</pre><b>In a Jupyter environment, please rerun this cell to show the HTML representation or trust the notebook. <br />On GitHub, the HTML representation is unable to render, please try loading this page with nbviewer.org.</b></div><div class=\"sk-container\" hidden><div class=\"sk-item\"><div class=\"sk-estimator sk-toggleable\"><input class=\"sk-toggleable__control sk-hidden--visually\" id=\"sk-estimator-id-1\" type=\"checkbox\" checked><label for=\"sk-estimator-id-1\" class=\"sk-toggleable__label sk-toggleable__label-arrow\">LinearDiscriminantAnalysis</label><div class=\"sk-toggleable__content\"><pre>LinearDiscriminantAnalysis()</pre></div></div></div></div></div>"
      ],
      "text/plain": [
       "LinearDiscriminantAnalysis()"
      ]
     },
     "execution_count": 2,
     "metadata": {},
     "output_type": "execute_result"
    }
   ],
   "source": [
    "iris_model = LinearDiscriminantAnalysis()\n",
    "iris_model.fit(X_train, y_train)"
   ]
  },
  {
   "cell_type": "code",
   "execution_count": 3,
   "metadata": {},
   "outputs": [
    {
     "name": "stdout",
     "output_type": "stream",
     "text": [
      "Instance 42 in the test set is a virginica and it is predicted to be a virginica\n",
      "The instance values are:\n",
      "     s_length  s_width  p_length  p_width\n",
      "143       6.8      3.2       5.9      2.3\n"
     ]
    },
    {
     "data": {
      "text/plain": [
       "3"
      ]
     },
     "execution_count": 3,
     "metadata": {},
     "output_type": "execute_result"
    }
   ],
   "source": [
    "inst_ind = 42\n",
    "instance = X_test.iloc[[inst_ind]]\n",
    "inst_class = y_test.iloc[inst_ind]\n",
    "pred = iris_model.predict(instance)[0]\n",
    "print(f\"Instance {inst_ind} in the test set is a {inst_class} and it is predicted to be a {pred}\")\n",
    "print(f\"The instance values are:\\n{instance}\")\n",
    "iris_model.predict_proba(instance).shape[1]"
   ]
  },
  {
   "cell_type": "code",
   "execution_count": 4,
   "metadata": {},
   "outputs": [],
   "source": [
    "ciu_obj = ciu.CIU(iris_model.predict_proba, iris_outnames, data=X)"
   ]
  },
  {
   "cell_type": "code",
   "execution_count": 5,
   "metadata": {},
   "outputs": [
    {
     "name": "stdout",
     "output_type": "stream",
     "text": [
      "<class 'pandas.core.frame.DataFrame'>\n",
      "          mins  maxs\n",
      "s_length   4.3   7.9\n",
      "s_width    2.0   4.4\n",
      "p_length   1.0   6.9\n",
      "p_width    0.1   2.5\n",
      "Row by Position:\n",
      "2.0\n",
      "4\n"
     ]
    }
   ],
   "source": [
    "print(type(ciu_obj.in_minmaxs))\n",
    "print(ciu_obj.in_minmaxs)\n",
    "row_by_position = ciu_obj.in_minmaxs.loc['s_width']  # Gets the second row (index 1)\n",
    "\n",
    "print(\"Row by Position:\")\n",
    "print(row_by_position[0])\n",
    "print(ciu_obj.in_minmaxs.shape[0])"
   ]
  },
  {
   "cell_type": "code",
   "execution_count": 6,
   "metadata": {},
   "outputs": [
    {
     "name": "stdout",
     "output_type": "stream",
     "text": [
      "[1.75974558e-52 4.97705992e-08 9.99764123e-01]\n",
      "[3.98153686e-33 2.35876568e-04 9.99999950e-01]\n"
     ]
    }
   ],
   "source": [
    "estimator = ciu.PerturbationMinMaxEstimator.PerturbationMinMaxEstimator(iris_model.predict_proba, ciu_obj.in_minmaxs, 150)\n",
    "mins, maxs = estimator.get_minmax_outvals(instance, [1])\n",
    "print(mins)\n",
    "print(maxs)"
   ]
  },
  {
   "cell_type": "code",
   "execution_count": 7,
   "metadata": {},
   "outputs": [
    {
     "name": "stdout",
     "output_type": "stream",
     "text": [
      "['virginica']\n"
     ]
    },
    {
     "data": {
      "text/html": [
       "<div>\n",
       "<style scoped>\n",
       "    .dataframe tbody tr th:only-of-type {\n",
       "        vertical-align: middle;\n",
       "    }\n",
       "\n",
       "    .dataframe tbody tr th {\n",
       "        vertical-align: top;\n",
       "    }\n",
       "\n",
       "    .dataframe thead th {\n",
       "        text-align: right;\n",
       "    }\n",
       "</style>\n",
       "<table border=\"1\" class=\"dataframe\">\n",
       "  <thead>\n",
       "    <tr style=\"text-align: right;\">\n",
       "      <th></th>\n",
       "      <th>CI</th>\n",
       "      <th>CU</th>\n",
       "      <th>Cinfl</th>\n",
       "      <th>outname</th>\n",
       "      <th>outval</th>\n",
       "      <th>feature</th>\n",
       "      <th>ymin</th>\n",
       "      <th>ymax</th>\n",
       "      <th>inputs</th>\n",
       "      <th>invals</th>\n",
       "      <th>target_concept</th>\n",
       "      <th>target_inputs</th>\n",
       "    </tr>\n",
       "  </thead>\n",
       "  <tbody>\n",
       "    <tr>\n",
       "      <th>Coalition of 2 inputs</th>\n",
       "      <td>1.0</td>\n",
       "      <td>8.510916e-43</td>\n",
       "      <td>-0.500000</td>\n",
       "      <td>setosa</td>\n",
       "      <td>8.510916e-43</td>\n",
       "      <td>Coalition of 2 inputs</td>\n",
       "      <td>5.308859e-54</td>\n",
       "      <td>1.0</td>\n",
       "      <td>[2, 3]</td>\n",
       "      <td>[5.9, 2.3]</td>\n",
       "      <td>None</td>\n",
       "      <td>None</td>\n",
       "    </tr>\n",
       "    <tr>\n",
       "      <th>Coalition of 2 inputs</th>\n",
       "      <td>1.0</td>\n",
       "      <td>3.437490e-06</td>\n",
       "      <td>-0.499997</td>\n",
       "      <td>versicolor</td>\n",
       "      <td>3.437490e-06</td>\n",
       "      <td>Coalition of 2 inputs</td>\n",
       "      <td>5.855456e-28</td>\n",
       "      <td>1.0</td>\n",
       "      <td>[2, 3]</td>\n",
       "      <td>[5.9, 2.3]</td>\n",
       "      <td>None</td>\n",
       "      <td>None</td>\n",
       "    </tr>\n",
       "    <tr>\n",
       "      <th>Coalition of 2 inputs</th>\n",
       "      <td>1.0</td>\n",
       "      <td>9.999966e-01</td>\n",
       "      <td>0.499997</td>\n",
       "      <td>virginica</td>\n",
       "      <td>9.999966e-01</td>\n",
       "      <td>Coalition of 2 inputs</td>\n",
       "      <td>2.734100e-51</td>\n",
       "      <td>1.0</td>\n",
       "      <td>[2, 3]</td>\n",
       "      <td>[5.9, 2.3]</td>\n",
       "      <td>None</td>\n",
       "      <td>None</td>\n",
       "    </tr>\n",
       "  </tbody>\n",
       "</table>\n",
       "</div>"
      ],
      "text/plain": [
       "                        CI            CU     Cinfl     outname        outval  \\\n",
       "Coalition of 2 inputs  1.0  8.510916e-43 -0.500000      setosa  8.510916e-43   \n",
       "Coalition of 2 inputs  1.0  3.437490e-06 -0.499997  versicolor  3.437490e-06   \n",
       "Coalition of 2 inputs  1.0  9.999966e-01  0.499997   virginica  9.999966e-01   \n",
       "\n",
       "                                     feature          ymin  ymax  inputs  \\\n",
       "Coalition of 2 inputs  Coalition of 2 inputs  5.308859e-54   1.0  [2, 3]   \n",
       "Coalition of 2 inputs  Coalition of 2 inputs  5.855456e-28   1.0  [2, 3]   \n",
       "Coalition of 2 inputs  Coalition of 2 inputs  2.734100e-51   1.0  [2, 3]   \n",
       "\n",
       "                           invals target_concept target_inputs  \n",
       "Coalition of 2 inputs  [5.9, 2.3]           None          None  \n",
       "Coalition of 2 inputs  [5.9, 2.3]           None          None  \n",
       "Coalition of 2 inputs  [5.9, 2.3]           None          None  "
      ]
     },
     "metadata": {},
     "output_type": "display_data"
    }
   ],
   "source": [
    "print(iris_model.predict(instance))\n",
    "res = ciu_obj.explain_core([2,3], instance, nsamples=1000)\n",
    "petal_ciu=pd.concat(res)\n",
    "display(petal_ciu)"
   ]
  },
  {
   "cell_type": "markdown",
   "metadata": {},
   "source": [
    "A \"target coalition\" can be indicated with the `target_inputs` parameter. Here `[2,3]` signifies the two petal features."
   ]
  },
  {
   "cell_type": "code",
   "execution_count": 8,
   "metadata": {},
   "outputs": [
    {
     "data": {
      "text/html": [
       "<div>\n",
       "<style scoped>\n",
       "    .dataframe tbody tr th:only-of-type {\n",
       "        vertical-align: middle;\n",
       "    }\n",
       "\n",
       "    .dataframe tbody tr th {\n",
       "        vertical-align: top;\n",
       "    }\n",
       "\n",
       "    .dataframe thead th {\n",
       "        text-align: right;\n",
       "    }\n",
       "</style>\n",
       "<table border=\"1\" class=\"dataframe\">\n",
       "  <thead>\n",
       "    <tr style=\"text-align: right;\">\n",
       "      <th></th>\n",
       "      <th>CI</th>\n",
       "      <th>CU</th>\n",
       "      <th>Cinfl</th>\n",
       "      <th>outname</th>\n",
       "      <th>outval</th>\n",
       "      <th>feature</th>\n",
       "      <th>ymin</th>\n",
       "      <th>ymax</th>\n",
       "      <th>inputs</th>\n",
       "      <th>invals</th>\n",
       "      <th>target_concept</th>\n",
       "      <th>target_inputs</th>\n",
       "    </tr>\n",
       "  </thead>\n",
       "  <tbody>\n",
       "    <tr>\n",
       "      <th>p_length</th>\n",
       "      <td>1.000000</td>\n",
       "      <td>8.510917e-43</td>\n",
       "      <td>-0.500000</td>\n",
       "      <td>setosa</td>\n",
       "      <td>8.510916e-43</td>\n",
       "      <td>p_length</td>\n",
       "      <td>4.319919e-55</td>\n",
       "      <td>1.000000</td>\n",
       "      <td>[2]</td>\n",
       "      <td>[5.9]</td>\n",
       "      <td>None</td>\n",
       "      <td>[2, 3]</td>\n",
       "    </tr>\n",
       "    <tr>\n",
       "      <th>p_length</th>\n",
       "      <td>0.999998</td>\n",
       "      <td>3.436024e-06</td>\n",
       "      <td>-0.499996</td>\n",
       "      <td>versicolor</td>\n",
       "      <td>3.437490e-06</td>\n",
       "      <td>p_length</td>\n",
       "      <td>1.471734e-09</td>\n",
       "      <td>0.999998</td>\n",
       "      <td>[2]</td>\n",
       "      <td>[5.9]</td>\n",
       "      <td>None</td>\n",
       "      <td>[2, 3]</td>\n",
       "    </tr>\n",
       "    <tr>\n",
       "      <th>p_length</th>\n",
       "      <td>1.000000</td>\n",
       "      <td>9.999966e-01</td>\n",
       "      <td>0.499997</td>\n",
       "      <td>virginica</td>\n",
       "      <td>9.999966e-01</td>\n",
       "      <td>p_length</td>\n",
       "      <td>6.464905e-19</td>\n",
       "      <td>1.000000</td>\n",
       "      <td>[2]</td>\n",
       "      <td>[5.9]</td>\n",
       "      <td>None</td>\n",
       "      <td>[2, 3]</td>\n",
       "    </tr>\n",
       "  </tbody>\n",
       "</table>\n",
       "</div>"
      ],
      "text/plain": [
       "                CI            CU     Cinfl     outname        outval  \\\n",
       "p_length  1.000000  8.510917e-43 -0.500000      setosa  8.510916e-43   \n",
       "p_length  0.999998  3.436024e-06 -0.499996  versicolor  3.437490e-06   \n",
       "p_length  1.000000  9.999966e-01  0.499997   virginica  9.999966e-01   \n",
       "\n",
       "           feature          ymin      ymax inputs invals target_concept  \\\n",
       "p_length  p_length  4.319919e-55  1.000000    [2]  [5.9]           None   \n",
       "p_length  p_length  1.471734e-09  0.999998    [2]  [5.9]           None   \n",
       "p_length  p_length  6.464905e-19  1.000000    [2]  [5.9]           None   \n",
       "\n",
       "         target_inputs  \n",
       "p_length        [2, 3]  \n",
       "p_length        [2, 3]  \n",
       "p_length        [2, 3]  "
      ]
     },
     "metadata": {},
     "output_type": "display_data"
    }
   ],
   "source": [
    "res_ic = ciu_obj.explain_core([2], instance, nsamples=1000, target_inputs=[2,3])\n",
    "display(pd.concat(res_ic))"
   ]
  },
  {
   "cell_type": "markdown",
   "metadata": {},
   "source": [
    "However, if CIU has already been calculated for the target coalition (i.e., intermediate concept), then it is better to use that result directly and pass the `ymin` and `ymax` values dorectly to the parameter `out_minmaxs`. That guarantees consistent CIU values between calculations and also avoid re-doing the CIU calculation for the target intermediate concept. "
   ]
  },
  {
   "cell_type": "code",
   "execution_count": 9,
   "metadata": {},
   "outputs": [
    {
     "data": {
      "text/html": [
       "<div>\n",
       "<style scoped>\n",
       "    .dataframe tbody tr th:only-of-type {\n",
       "        vertical-align: middle;\n",
       "    }\n",
       "\n",
       "    .dataframe tbody tr th {\n",
       "        vertical-align: top;\n",
       "    }\n",
       "\n",
       "    .dataframe thead th {\n",
       "        text-align: right;\n",
       "    }\n",
       "</style>\n",
       "<table border=\"1\" class=\"dataframe\">\n",
       "  <thead>\n",
       "    <tr style=\"text-align: right;\">\n",
       "      <th></th>\n",
       "      <th>CI</th>\n",
       "      <th>CU</th>\n",
       "      <th>Cinfl</th>\n",
       "      <th>outname</th>\n",
       "      <th>outval</th>\n",
       "      <th>feature</th>\n",
       "      <th>ymin</th>\n",
       "      <th>ymax</th>\n",
       "      <th>inputs</th>\n",
       "      <th>invals</th>\n",
       "      <th>target_concept</th>\n",
       "      <th>target_inputs</th>\n",
       "    </tr>\n",
       "  </thead>\n",
       "  <tbody>\n",
       "    <tr>\n",
       "      <th>p_length</th>\n",
       "      <td>1.000000</td>\n",
       "      <td>8.510917e-43</td>\n",
       "      <td>-0.500000</td>\n",
       "      <td>setosa</td>\n",
       "      <td>8.510916e-43</td>\n",
       "      <td>p_length</td>\n",
       "      <td>4.826556e-55</td>\n",
       "      <td>1.000000</td>\n",
       "      <td>[2]</td>\n",
       "      <td>[5.9]</td>\n",
       "      <td>None</td>\n",
       "      <td>None</td>\n",
       "    </tr>\n",
       "    <tr>\n",
       "      <th>p_length</th>\n",
       "      <td>0.999998</td>\n",
       "      <td>3.435979e-06</td>\n",
       "      <td>-0.499996</td>\n",
       "      <td>versicolor</td>\n",
       "      <td>3.437490e-06</td>\n",
       "      <td>p_length</td>\n",
       "      <td>1.517136e-09</td>\n",
       "      <td>0.999998</td>\n",
       "      <td>[2]</td>\n",
       "      <td>[5.9]</td>\n",
       "      <td>None</td>\n",
       "      <td>None</td>\n",
       "    </tr>\n",
       "    <tr>\n",
       "      <th>p_length</th>\n",
       "      <td>1.000000</td>\n",
       "      <td>9.999966e-01</td>\n",
       "      <td>0.499997</td>\n",
       "      <td>virginica</td>\n",
       "      <td>9.999966e-01</td>\n",
       "      <td>p_length</td>\n",
       "      <td>6.464905e-19</td>\n",
       "      <td>1.000000</td>\n",
       "      <td>[2]</td>\n",
       "      <td>[5.9]</td>\n",
       "      <td>None</td>\n",
       "      <td>None</td>\n",
       "    </tr>\n",
       "  </tbody>\n",
       "</table>\n",
       "</div>"
      ],
      "text/plain": [
       "                CI            CU     Cinfl     outname        outval  \\\n",
       "p_length  1.000000  8.510917e-43 -0.500000      setosa  8.510916e-43   \n",
       "p_length  0.999998  3.435979e-06 -0.499996  versicolor  3.437490e-06   \n",
       "p_length  1.000000  9.999966e-01  0.499997   virginica  9.999966e-01   \n",
       "\n",
       "           feature          ymin      ymax inputs invals target_concept  \\\n",
       "p_length  p_length  4.826556e-55  1.000000    [2]  [5.9]           None   \n",
       "p_length  p_length  1.517136e-09  0.999998    [2]  [5.9]           None   \n",
       "p_length  p_length  6.464905e-19  1.000000    [2]  [5.9]           None   \n",
       "\n",
       "         target_inputs  \n",
       "p_length          None  \n",
       "p_length          None  \n",
       "p_length          None  "
      ]
     },
     "metadata": {},
     "output_type": "display_data"
    }
   ],
   "source": [
    "res_ic = ciu_obj.explain_core([2], instance, nsamples=1000, out_minmaxs=petal_ciu.loc[:,['ymin','ymax']])\n",
    "display(pd.concat(res_ic))"
   ]
  },
  {
   "cell_type": "code",
   "execution_count": 10,
   "metadata": {},
   "outputs": [
    {
     "name": "stdout",
     "output_type": "stream",
     "text": [
      "          mins  maxs\n",
      "s_length   4.3   7.9\n",
      "s_width    2.0   4.4\n",
      "p_length   1.0   6.9\n",
      "p_width    0.1   2.5\n",
      "4.3\n"
     ]
    }
   ],
   "source": [
    "print(ciu_obj.in_minmaxs)\n",
    "print(ciu_obj.in_minmaxs.loc['s_length'][0])"
   ]
  },
  {
   "cell_type": "markdown",
   "metadata": {},
   "source": [
    "It is possible to get CIU results for all outputs in one go into the same DataFrame (even though that's not usually what you want but can be more efficient and stable):"
   ]
  },
  {
   "cell_type": "code",
   "execution_count": 11,
   "metadata": {},
   "outputs": [
    {
     "data": {
      "text/html": [
       "<div>\n",
       "<style scoped>\n",
       "    .dataframe tbody tr th:only-of-type {\n",
       "        vertical-align: middle;\n",
       "    }\n",
       "\n",
       "    .dataframe tbody tr th {\n",
       "        vertical-align: top;\n",
       "    }\n",
       "\n",
       "    .dataframe thead th {\n",
       "        text-align: right;\n",
       "    }\n",
       "</style>\n",
       "<table border=\"1\" class=\"dataframe\">\n",
       "  <thead>\n",
       "    <tr style=\"text-align: right;\">\n",
       "      <th></th>\n",
       "      <th>CI</th>\n",
       "      <th>CU</th>\n",
       "      <th>Cinfl</th>\n",
       "      <th>outname</th>\n",
       "      <th>outval</th>\n",
       "      <th>feature</th>\n",
       "      <th>ymin</th>\n",
       "      <th>ymax</th>\n",
       "      <th>inputs</th>\n",
       "      <th>invals</th>\n",
       "      <th>target_concept</th>\n",
       "      <th>target_inputs</th>\n",
       "    </tr>\n",
       "  </thead>\n",
       "  <tbody>\n",
       "    <tr>\n",
       "      <th>s_length</th>\n",
       "      <td>0.000147</td>\n",
       "      <td>0.023374</td>\n",
       "      <td>-0.000070</td>\n",
       "      <td>versicolor</td>\n",
       "      <td>0.000003</td>\n",
       "      <td>s_length</td>\n",
       "      <td>6.727409e-10</td>\n",
       "      <td>0.000147</td>\n",
       "      <td>[0]</td>\n",
       "      <td>[6.8]</td>\n",
       "      <td>None</td>\n",
       "      <td>None</td>\n",
       "    </tr>\n",
       "    <tr>\n",
       "      <th>s_length</th>\n",
       "      <td>0.000147</td>\n",
       "      <td>0.976626</td>\n",
       "      <td>0.000070</td>\n",
       "      <td>virginica</td>\n",
       "      <td>0.999997</td>\n",
       "      <td>s_length</td>\n",
       "      <td>9.998530e-01</td>\n",
       "      <td>1.000000</td>\n",
       "      <td>[0]</td>\n",
       "      <td>[6.8]</td>\n",
       "      <td>None</td>\n",
       "      <td>None</td>\n",
       "    </tr>\n",
       "    <tr>\n",
       "      <th>s_width</th>\n",
       "      <td>0.000225</td>\n",
       "      <td>0.015085</td>\n",
       "      <td>-0.000109</td>\n",
       "      <td>versicolor</td>\n",
       "      <td>0.000003</td>\n",
       "      <td>s_width</td>\n",
       "      <td>4.977060e-08</td>\n",
       "      <td>0.000225</td>\n",
       "      <td>[1]</td>\n",
       "      <td>[3.2]</td>\n",
       "      <td>None</td>\n",
       "      <td>None</td>\n",
       "    </tr>\n",
       "    <tr>\n",
       "      <th>s_width</th>\n",
       "      <td>0.000225</td>\n",
       "      <td>0.984915</td>\n",
       "      <td>0.000109</td>\n",
       "      <td>virginica</td>\n",
       "      <td>0.999997</td>\n",
       "      <td>s_width</td>\n",
       "      <td>9.997754e-01</td>\n",
       "      <td>1.000000</td>\n",
       "      <td>[1]</td>\n",
       "      <td>[3.2]</td>\n",
       "      <td>None</td>\n",
       "      <td>None</td>\n",
       "    </tr>\n",
       "    <tr>\n",
       "      <th>p_length</th>\n",
       "      <td>0.999998</td>\n",
       "      <td>0.000003</td>\n",
       "      <td>-0.499996</td>\n",
       "      <td>versicolor</td>\n",
       "      <td>0.000003</td>\n",
       "      <td>p_length</td>\n",
       "      <td>3.171383e-09</td>\n",
       "      <td>0.999998</td>\n",
       "      <td>[2]</td>\n",
       "      <td>[5.9]</td>\n",
       "      <td>None</td>\n",
       "      <td>None</td>\n",
       "    </tr>\n",
       "    <tr>\n",
       "      <th>p_length</th>\n",
       "      <td>1.000000</td>\n",
       "      <td>0.999997</td>\n",
       "      <td>0.499997</td>\n",
       "      <td>virginica</td>\n",
       "      <td>0.999997</td>\n",
       "      <td>p_length</td>\n",
       "      <td>6.464905e-19</td>\n",
       "      <td>1.000000</td>\n",
       "      <td>[2]</td>\n",
       "      <td>[5.9]</td>\n",
       "      <td>None</td>\n",
       "      <td>None</td>\n",
       "    </tr>\n",
       "    <tr>\n",
       "      <th>p_width</th>\n",
       "      <td>1.000000</td>\n",
       "      <td>0.000003</td>\n",
       "      <td>-0.499997</td>\n",
       "      <td>versicolor</td>\n",
       "      <td>0.000003</td>\n",
       "      <td>p_width</td>\n",
       "      <td>3.701364e-07</td>\n",
       "      <td>1.000000</td>\n",
       "      <td>[3]</td>\n",
       "      <td>[2.3]</td>\n",
       "      <td>None</td>\n",
       "      <td>None</td>\n",
       "    </tr>\n",
       "    <tr>\n",
       "      <th>p_width</th>\n",
       "      <td>1.000000</td>\n",
       "      <td>0.999997</td>\n",
       "      <td>0.499997</td>\n",
       "      <td>virginica</td>\n",
       "      <td>0.999997</td>\n",
       "      <td>p_width</td>\n",
       "      <td>4.378181e-08</td>\n",
       "      <td>1.000000</td>\n",
       "      <td>[3]</td>\n",
       "      <td>[2.3]</td>\n",
       "      <td>None</td>\n",
       "      <td>None</td>\n",
       "    </tr>\n",
       "  </tbody>\n",
       "</table>\n",
       "</div>"
      ],
      "text/plain": [
       "                CI        CU     Cinfl     outname    outval   feature  \\\n",
       "s_length  0.000147  0.023374 -0.000070  versicolor  0.000003  s_length   \n",
       "s_length  0.000147  0.976626  0.000070   virginica  0.999997  s_length   \n",
       "s_width   0.000225  0.015085 -0.000109  versicolor  0.000003   s_width   \n",
       "s_width   0.000225  0.984915  0.000109   virginica  0.999997   s_width   \n",
       "p_length  0.999998  0.000003 -0.499996  versicolor  0.000003  p_length   \n",
       "p_length  1.000000  0.999997  0.499997   virginica  0.999997  p_length   \n",
       "p_width   1.000000  0.000003 -0.499997  versicolor  0.000003   p_width   \n",
       "p_width   1.000000  0.999997  0.499997   virginica  0.999997   p_width   \n",
       "\n",
       "                  ymin      ymax inputs invals target_concept target_inputs  \n",
       "s_length  6.727409e-10  0.000147    [0]  [6.8]           None          None  \n",
       "s_length  9.998530e-01  1.000000    [0]  [6.8]           None          None  \n",
       "s_width   4.977060e-08  0.000225    [1]  [3.2]           None          None  \n",
       "s_width   9.997754e-01  1.000000    [1]  [3.2]           None          None  \n",
       "p_length  3.171383e-09  0.999998    [2]  [5.9]           None          None  \n",
       "p_length  6.464905e-19  1.000000    [2]  [5.9]           None          None  \n",
       "p_width   3.701364e-07  1.000000    [3]  [2.3]           None          None  \n",
       "p_width   4.378181e-08  1.000000    [3]  [2.3]           None          None  "
      ]
     },
     "metadata": {},
     "output_type": "display_data"
    }
   ],
   "source": [
    "CIUres = ciu_obj.explain(instance, output_inds=[1,2])\n",
    "display(CIUres)"
   ]
  },
  {
   "cell_type": "code",
   "execution_count": 12,
   "metadata": {},
   "outputs": [
    {
     "data": {
      "text/plain": [
       "list"
      ]
     },
     "execution_count": 12,
     "metadata": {},
     "output_type": "execute_result"
    }
   ],
   "source": [
    "type([1])"
   ]
  },
  {
   "cell_type": "code",
   "execution_count": 13,
   "metadata": {},
   "outputs": [
    {
     "name": "stdout",
     "output_type": "stream",
     "text": [
      "[3.43749029e-06 9.99996563e-01]\n"
     ]
    }
   ],
   "source": [
    "preds = iris_model.predict_proba(instance)\n",
    "print(preds[0,[1,2]])"
   ]
  },
  {
   "cell_type": "code",
   "execution_count": 14,
   "metadata": {},
   "outputs": [
    {
     "name": "stdout",
     "output_type": "stream",
     "text": [
      "p_length\n"
     ]
    },
    {
     "data": {
      "image/png": "[encoded data removed]",
      "text/plain": [
       "<Figure size 600x400 with 1 Axes>"
      ]
     },
     "metadata": {},
     "output_type": "display_data"
    }
   ],
   "source": [
    "print(ciu_obj.input_names[2])\n",
    "ciu_obj.plot_input_output(ind_input=2, output_inds=[0,1,2], illustrate_CIU=True)\n"
   ]
  },
  {
   "cell_type": "markdown",
   "metadata": {},
   "source": [
    "It is usually smarter to call `explain()` with only one `output_inds` value and then pass the result directly to the plotting methods. However, it can be more efficient (and stable) to get CIU values for all outputs with one single call. In that case, one can extract the values for a specific output like this:"
   ]
  },
  {
   "cell_type": "code",
   "execution_count": 15,
   "metadata": {},
   "outputs": [
    {
     "data": {
      "image/png": "[encoded data removed]",
      "text/plain": [
       "<Figure size 600x200 with 2 Axes>"
      ]
     },
     "metadata": {},
     "output_type": "display_data"
    }
   ],
   "source": [
    "CIUres = CIUres[CIUres['outname'] == 'virginica']\n",
    "ciu_obj.plot_ciu(CIUres, figsize=(6,2))"
   ]
  },
  {
   "cell_type": "code",
   "execution_count": 16,
   "metadata": {},
   "outputs": [
    {
     "data": {
      "image/png": "[encoded data removed]",
      "text/plain": [
       "<Figure size 600x200 with 1 Axes>"
      ]
     },
     "metadata": {},
     "output_type": "display_data"
    }
   ],
   "source": [
    "ciu_obj.plot_ciu(CIUres, plot_mode='overlap', figsize=(6,2))"
   ]
  },
  {
   "cell_type": "code",
   "execution_count": 17,
   "metadata": {},
   "outputs": [
    {
     "data": {
      "image/png": "[encoded data removed]",
      "text/plain": [
       "<Figure size 600x200 with 2 Axes>"
      ]
     },
     "metadata": {},
     "output_type": "display_data"
    }
   ],
   "source": [
    "ciu_obj.plot_ciu(CIUres, color_blind='protanopia', figsize=(6,2))"
   ]
  },
  {
   "cell_type": "code",
   "execution_count": 18,
   "metadata": {},
   "outputs": [
    {
     "data": {
      "image/png": "[encoded data removed]",
      "text/plain": [
       "<Figure size 600x200 with 1 Axes>"
      ]
     },
     "metadata": {},
     "output_type": "display_data"
    }
   ],
   "source": [
    "ciu_obj.plot_influence(CIUres, figsize=(6,2))"
   ]
  },
  {
   "cell_type": "code",
   "execution_count": 19,
   "metadata": {},
   "outputs": [
    {
     "name": "stdout",
     "output_type": "stream",
     "text": [
      "The explained value is virginica with the value 1.00 (CU=1.00), which is high utility.\n",
      "Feature s_length has very low importance (CI=0.00) and has value(s) 6.8, which is high utility (CU=0.98)\n",
      "Feature s_width has very low importance (CI=0.00) and has value(s) 3.2, which is high utility (CU=0.98)\n",
      "Feature p_length has very high importance (CI=1.00) and has value(s) 5.9, which is high utility (CU=1.00)\n",
      "Feature p_width has very high importance (CI=1.00) and has value(s) 2.3, which is high utility (CU=1.00)\n",
      "\n"
     ]
    }
   ],
   "source": [
    "text_ciu = ciu_obj.textual_explanation(CIUres)\n",
    "print(text_ciu)\n"
   ]
  },
  {
   "cell_type": "code",
   "execution_count": 20,
   "metadata": {},
   "outputs": [
    {
     "data": {
      "text/markdown": [
       "The explained value is ***virginica*** with the value 1.00 (CU=1.00), which is **high utility**.<br>Feature *s_length* has **very low importance (CI=0.00)** and has value(s) 6.8, which is **high utility (CU=0.98)**<br>Feature *s_width* has **very low importance (CI=0.00)** and has value(s) 3.2, which is **high utility (CU=0.98)**<br>Feature *p_length* has **very high importance (CI=1.00)** and has value(s) 5.9, which is **high utility (CU=1.00)**<br>Feature *p_width* has **very high importance (CI=1.00)** and has value(s) 2.3, which is **high utility (CU=1.00)**<br>"
      ],
      "text/plain": [
       "<IPython.core.display.Markdown object>"
      ]
     },
     "execution_count": 20,
     "metadata": {},
     "output_type": "execute_result"
    }
   ],
   "source": [
    "from IPython.display import Markdown\n",
    "markdown_text = ciu_obj.textual_explanation(CIUres, use_markdown_effects=True)\n",
    "Markdown(markdown_text)"
   ]
  }
 ],
 "metadata": {
  "kernelspec": {
   "display_name": "py-ciu",
   "language": "python",
   "name": "python3"
  },
  "language_info": {
   "codemirror_mode": {
    "name": "ipython",
    "version": 3
   },
   "file_extension": ".py",
   "mimetype": "text/x-python",
   "name": "python",
   "nbconvert_exporter": "python",
   "pygments_lexer": "ipython3",
   "version": "3.8.5"
  }
 },
 "nbformat": 4,
 "nbformat_minor": 4
}
