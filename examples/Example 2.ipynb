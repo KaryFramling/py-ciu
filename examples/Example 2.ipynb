{
 "cells": [
  {
   "cell_type": "code",
   "execution_count": 1,
   "metadata": {},
   "outputs": [],
   "source": [
    "import os\n",
    "import pandas as pd\n",
    "import numpy as np\n",
    "import seaborn as sns\n",
    "import matplotlib.pyplot as plt\n",
    "%matplotlib inline\n",
    "\n",
    "import project_path\n",
    "from ciu import determine_ciu\n",
    "from ciu_tests.loan_data_generator import generate_data"
   ]
  },
  {
   "cell_type": "code",
   "execution_count": 2,
   "metadata": {},
   "outputs": [],
   "source": [
    "train = pd.read_csv(os.path.join('data','train.csv'))\n",
    "test = pd.read_csv(os.path.join('data', 'test.csv'))"
   ]
  },
  {
   "cell_type": "code",
   "execution_count": 3,
   "metadata": {},
   "outputs": [],
   "source": [
    "def names(train, test):\n",
    "    for i in [train, test]:\n",
    "        i['Name_Len'] = i['Name'].apply(lambda x: len(x))\n",
    "        i['Name_Title'] = i['Name'].apply(lambda x: x.split(',')[1]).apply(lambda x: x.split()[0])\n",
    "        del i['Name']\n",
    "    return train, test"
   ]
  },
  {
   "cell_type": "code",
   "execution_count": 4,
   "metadata": {},
   "outputs": [],
   "source": [
    "def age_impute(train, test):\n",
    "    for i in [train, test]:\n",
    "        i['Age_Null_Flag'] = i['Age'].apply(lambda x: 1 if pd.isnull(x) else 0)\n",
    "    train['mean'] = train.groupby(['Name_Title', 'Pclass'])['Age'].transform('mean')\n",
    "    train['Age'] = train['Age'].fillna(train['mean'])\n",
    "    z = test.merge(train, on=['Name_Title', 'Pclass'], how='left').drop_duplicates(['PassengerId_x'])\n",
    "    test['Age'] = np.where(test['Age'].isnull(), z['mean'], test['Age'])\n",
    "    test['Age'] = test['Age'].fillna(test['Age'].mean())\n",
    "    del train['mean']\n",
    "    return train, test"
   ]
  },
  {
   "cell_type": "code",
   "execution_count": 5,
   "metadata": {},
   "outputs": [],
   "source": [
    "def fam_size(train, test):\n",
    "    for i in [train, test]:\n",
    "        i['Fam_Size'] = np.where((i['SibSp']+i['Parch']) == 0 , 'Solo',\n",
    "                           np.where((i['SibSp']+i['Parch']) <= 3,'Nuclear', 'Big'))\n",
    "        del i['SibSp']\n",
    "        del i['Parch']\n",
    "    return train, test"
   ]
  },
  {
   "cell_type": "code",
   "execution_count": 6,
   "metadata": {},
   "outputs": [],
   "source": [
    "def ticket_grouped(train, test):\n",
    "    for i in [train, test]:\n",
    "        i['Ticket_Len'] = i['Ticket'].apply(lambda x: len(x))\n",
    "        del i['Ticket']\n",
    "    return train, test"
   ]
  },
  {
   "cell_type": "code",
   "execution_count": 7,
   "metadata": {},
   "outputs": [],
   "source": [
    "def cabin(train, test):\n",
    "    for i in [train, test]:\n",
    "        i['Cabin_Letter'] = i['Cabin'].apply(lambda x: str(x)[0])\n",
    "        del i['Cabin']\n",
    "    return train, test"
   ]
  },
  {
   "cell_type": "code",
   "execution_count": 8,
   "metadata": {},
   "outputs": [],
   "source": [
    "def cabin_num(train, test):\n",
    "    for i in [train, test]:\n",
    "        i['Cabin_num1'] = i['Cabin'].apply(lambda x: str(x).split(' ')[-1][1:])\n",
    "        i['Cabin_num1'].replace('an', np.NaN, inplace = True)\n",
    "        i['Cabin_num1'] = i['Cabin_num1'].apply(lambda x: int(x) if not pd.isnull(x) and x != '' else np.NaN)\n",
    "        i['Cabin_num'] = pd.qcut(train['Cabin_num1'],3)\n",
    "    train = pd.concat((train, pd.get_dummies(train['Cabin_num'], prefix = 'Cabin_num')), axis = 1)\n",
    "    test = pd.concat((test, pd.get_dummies(test['Cabin_num'], prefix = 'Cabin_num')), axis = 1)\n",
    "    del train['Cabin_num']\n",
    "    del test['Cabin_num']\n",
    "    del train['Cabin_num1']\n",
    "    del test['Cabin_num1']\n",
    "    return train, test"
   ]
  },
  {
   "cell_type": "code",
   "execution_count": 9,
   "metadata": {},
   "outputs": [],
   "source": [
    "def embarked_impute(train, test):\n",
    "    for i in [train, test]:\n",
    "        i['Embarked'] = i['Embarked'].fillna('S')\n",
    "    return train, test"
   ]
  },
  {
   "cell_type": "code",
   "execution_count": 10,
   "metadata": {},
   "outputs": [],
   "source": [
    "test['Fare'].fillna(train['Fare'].mean(), inplace = True)"
   ]
  },
  {
   "cell_type": "code",
   "execution_count": 11,
   "metadata": {},
   "outputs": [],
   "source": [
    "def dummies(train, test, columns = ['Pclass', 'Sex', 'Embarked', 'Ticket_Lett', 'Cabin_Letter', 'Name_Title', 'Fam_Size']):\n",
    "    for column in columns:\n",
    "        train[column] = train[column].apply(lambda x: str(x))\n",
    "        test[column] = test[column].apply(lambda x: str(x))\n",
    "        good_cols = [column+'_'+i for i in train[column].unique() if i in test[column].unique()]\n",
    "        train = pd.concat((train, pd.get_dummies(train[column], prefix = column)[good_cols]), axis = 1)\n",
    "        test = pd.concat((test, pd.get_dummies(test[column], prefix = column)[good_cols]), axis = 1)\n",
    "        del train[column]\n",
    "        del test[column]\n",
    "    return train, test"
   ]
  },
  {
   "cell_type": "code",
   "execution_count": 12,
   "metadata": {},
   "outputs": [],
   "source": [
    "def drop(train, test, bye = ['PassengerId']):\n",
    "    for i in [train, test]:\n",
    "        for z in bye:\n",
    "            del i[z]\n",
    "    return train, test"
   ]
  },
  {
   "cell_type": "code",
   "execution_count": 13,
   "metadata": {},
   "outputs": [],
   "source": [
    "train = pd.read_csv(os.path.join('data', 'train.csv'))\n",
    "test = pd.read_csv(os.path.join('data', 'test.csv'))\n",
    "train, test = names(train, test)\n",
    "train, test = age_impute(train, test)\n",
    "train, test = cabin_num(train, test)\n",
    "train, test = cabin(train, test)\n",
    "train, test = embarked_impute(train, test)\n",
    "train, test = fam_size(train, test)\n",
    "test['Fare'].fillna(train['Fare'].mean(), inplace = True)\n",
    "train, test = ticket_grouped(train, test)\n",
    "train, test = dummies(train, test, columns = ['Pclass', 'Sex', 'Embarked', \n",
    "                                              'Cabin_Letter', 'Name_Title', 'Fam_Size'])\n",
    "train, test = drop(train, test)"
   ]
  },
  {
   "cell_type": "code",
   "execution_count": 14,
   "metadata": {},
   "outputs": [
    {
     "data": {
      "text/plain": [
       "36"
      ]
     },
     "execution_count": 14,
     "metadata": {},
     "output_type": "execute_result"
    }
   ],
   "source": [
    "len(train.columns)"
   ]
  },
  {
   "cell_type": "code",
   "execution_count": 15,
   "metadata": {},
   "outputs": [],
   "source": [
    "from sklearn.model_selection import GridSearchCV\n",
    "from sklearn.ensemble import RandomForestClassifier\n",
    "\n",
    "rf = RandomForestClassifier(max_features='auto',\n",
    "                                oob_score=True,\n",
    "                                random_state=1,\n",
    "                                n_jobs=-1)\n",
    "\n",
    "param_grid = { \"criterion\"   : [\"gini\", \"entropy\"],\n",
    "             \"min_samples_leaf\" : [1, 5, 10],\n",
    "             \"min_samples_split\" : [2, 4, 10, 12, 16],\n",
    "             \"n_estimators\": [50, 100, 400, 700, 1000]}\n",
    "\n",
    "gs = GridSearchCV(estimator=rf,\n",
    "                  param_grid=param_grid,\n",
    "                  scoring='accuracy',\n",
    "                  cv=3,\n",
    "                  n_jobs=-1)\n",
    "\n",
    "gs = gs.fit(train.iloc[:, 1:], train.iloc[:, 0])"
   ]
  },
  {
   "cell_type": "code",
   "execution_count": 16,
   "metadata": {
    "scrolled": true
   },
   "outputs": [
    {
     "name": "stdout",
     "output_type": "stream",
     "text": [
      "['Age', 'Fare', 'Name_Len', 'Age_Null_Flag', 'Cabin_num_(1.999, 28.667]', 'Cabin_num_(28.667, 65.667]', 'Cabin_num_(65.667, 148.0]', 'Ticket_Len', 'Pclass_3', 'Pclass_1', 'Pclass_2', 'Sex_male', 'Sex_female', 'Embarked_S', 'Embarked_C', 'Embarked_Q', 'Cabin_Letter_n', 'Cabin_Letter_C', 'Cabin_Letter_E', 'Cabin_Letter_G', 'Cabin_Letter_D', 'Cabin_Letter_A', 'Cabin_Letter_B', 'Cabin_Letter_F', 'Name_Title_Mr.', 'Name_Title_Mrs.', 'Name_Title_Miss.', 'Name_Title_Master.', 'Name_Title_Rev.', 'Name_Title_Dr.', 'Name_Title_Ms.', 'Name_Title_Col.', 'Fam_Size_Nuclear', 'Fam_Size_Solo', 'Fam_Size_Big']\n",
      "Case: [27.      8.6625 16.      0.      0.      0.      1.      6.      1.\n",
      "  0.      0.      1.      0.      1.      0.      0.      1.      0.\n",
      "  0.      0.      0.      0.      0.      0.      1.      0.      0.\n",
      "  0.      0.      0.      0.      0.      0.      1.      0.    ]; Prediction [0]; Probability: [[0.84654599 0.15345401]]\n"
     ]
    }
   ],
   "source": [
    "\n",
    "feature_names = [\n",
    "    'Age', 'Fare', 'Name_Len', 'Age_Null_Flag', 'Cabin_num_(1.999, 28.667]', 'Cabin_num_(28.667, 65.667]', \n",
    "    'Cabin_num_(65.667, 148.0]', 'Ticket_Len', 'Pclass_3', 'Pclass_1', 'Pclass_2', 'Sex_male', 'Sex_female', \n",
    "    'Embarked_S', 'Embarked_C', 'Embarked_Q', 'Cabin_Letter_n', 'Cabin_Letter_C', 'Cabin_Letter_E', 'Cabin_Letter_G', \n",
    "    'Cabin_Letter_D', 'Cabin_Letter_A', 'Cabin_Letter_B', 'Cabin_Letter_F', 'Name_Title_Mr.', 'Name_Title_Mrs.',\n",
    "    'Name_Title_Miss.', 'Name_Title_Master.', 'Name_Title_Rev.', 'Name_Title_Dr.', 'Name_Title_Ms.', 'Name_Title_Col.',\n",
    "    'Fam_Size_Nuclear', 'Fam_Size_Solo', 'Fam_Size_Big'\n",
    "]\n",
    "\n",
    "case = test.values[3]\n",
    "example_prediction = gs.predict([test.values[3]])\n",
    "example_prediction_prob = gs.predict_proba([test.values[3]])\n",
    "prediction_index = 0 if example_prediction_prob[0][0] > 0.5 else 1\n",
    "\n",
    "print(feature_names)\n",
    "print(f'Case: {case}; Prediction {example_prediction}; Probability: {example_prediction_prob}')"
   ]
  },
  {
   "cell_type": "code",
   "execution_count": 17,
   "metadata": {},
   "outputs": [
    {
     "name": "stdout",
     "output_type": "stream",
     "text": [
      "Age\n",
      "c max 0.4048597572362278\n",
      "c min 0.3207309693574399\n",
      "n 0.91895117572486\n",
      "Fare\n",
      "c max 0.35182945420592476\n",
      "c min 0.35182945420592476\n",
      "n 0.91895117572486\n",
      "Name_Len\n",
      "c max 0.35182945420592476\n",
      "c min 0.35182945420592476\n",
      "n 0.91895117572486\n",
      "Age_Null_Flag\n",
      "c max 0.35182945420592476\n",
      "c min 0.35182945420592476\n",
      "n 0.91895117572486\n",
      "Cabin_num_(1.999, 28.667]\n",
      "c max 0.35426278753925816\n",
      "c min 0.35182945420592476\n",
      "n 0.91895117572486\n",
      "Cabin_num_(28.667, 65.667]\n",
      "c max 0.5284762604888866\n",
      "c min 0.35182945420592476\n",
      "n 0.91895117572486\n",
      "Cabin_num_(65.667, 148.0]\n",
      "c max 0.35182945420592476\n",
      "c min 0.236095188471659\n",
      "n 0.91895117572486\n",
      "Ticket_Len\n",
      "c max 0.35182945420592476\n",
      "c min 0.28799775485951956\n",
      "n 0.91895117572486\n",
      "Pclass_3\n",
      "c max 0.35182945420592476\n",
      "c min 0.35182945420592476\n",
      "n 0.91895117572486\n",
      "Pclass_1\n",
      "c max 0.35182945420592476\n",
      "c min 0.35182945420592476\n",
      "n 0.91895117572486\n",
      "Pclass_2\n",
      "c max 0.35182945420592476\n",
      "c min 0.35182945420592476\n",
      "n 0.91895117572486\n",
      "Sex_male\n",
      "c max 0.37237917409388\n",
      "c min 0.35182945420592476\n",
      "n 0.91895117572486\n",
      "Sex_female\n",
      "c max 0.35222952635599697\n",
      "c min 0.35182945420592476\n",
      "n 0.91895117572486\n",
      "Embarked_S\n",
      "c max 0.35468659706306765\n",
      "c min 0.35182945420592476\n",
      "n 0.91895117572486\n",
      "Embarked_C\n",
      "c max 0.3744279390544096\n",
      "c min 0.35182945420592476\n",
      "n 0.91895117572486\n",
      "Embarked_Q\n",
      "c max 0.3775500891265597\n",
      "c min 0.35182945420592476\n",
      "n 0.91895117572486\n",
      "Cabin_Letter_n\n",
      "c max 0.3709273255181923\n",
      "c min 0.35182945420592476\n",
      "n 0.91895117572486\n",
      "Cabin_Letter_C\n",
      "c max 0.35182945420592476\n",
      "c min 0.33570765933412994\n",
      "n 0.91895117572486\n",
      "Cabin_Letter_E\n",
      "c max 0.35182945420592476\n",
      "c min 0.34735298361768957\n",
      "n 0.91895117572486\n",
      "Cabin_Letter_G\n",
      "c max 0.4008834287338123\n",
      "c min 0.35182945420592476\n",
      "n 0.91895117572486\n",
      "Cabin_Letter_D\n",
      "c max 0.35182945420592476\n",
      "c min 0.3501671165435872\n",
      "n 0.91895117572486\n",
      "Cabin_Letter_A\n",
      "c max 0.35182945420592476\n",
      "c min 0.35182945420592476\n",
      "n 0.91895117572486\n",
      "Cabin_Letter_B\n",
      "c max 0.3609203632968338\n",
      "c min 0.35182945420592476\n",
      "n 0.91895117572486\n",
      "Cabin_Letter_F\n",
      "c max 0.35182945420592476\n",
      "c min 0.35182945420592476\n",
      "n 0.91895117572486\n",
      "Name_Title_Mr.\n",
      "c max 0.3873099415204678\n",
      "c min 0.35182945420592476\n",
      "n 0.91895117572486\n",
      "Name_Title_Mrs.\n",
      "c max 0.35182945420592476\n",
      "c min 0.34833466859937445\n",
      "n 0.91895117572486\n",
      "Name_Title_Miss.\n",
      "c max 0.42655353568000626\n",
      "c min 0.35182945420592476\n",
      "n 0.91895117572486\n",
      "Name_Title_Master.\n",
      "c max 0.35182945420592476\n",
      "c min 0.309051676428147\n",
      "n 0.91895117572486\n",
      "Name_Title_Rev.\n",
      "c max 0.36325802563449616\n",
      "c min 0.35182945420592476\n",
      "n 0.91895117572486\n",
      "Name_Title_Dr.\n",
      "c max 0.35182945420592476\n",
      "c min 0.35182945420592476\n",
      "n 0.91895117572486\n",
      "Name_Title_Ms.\n",
      "c max 0.35182945420592476\n",
      "c min 0.34182945420592475\n",
      "n 0.91895117572486\n",
      "Name_Title_Col.\n",
      "c max 0.35182945420592476\n",
      "c min 0.32211150548797607\n",
      "n 0.91895117572486\n",
      "Fam_Size_Nuclear\n",
      "c max 0.36307945420592475\n",
      "c min 0.35182945420592476\n",
      "n 0.91895117572486\n",
      "Fam_Size_Solo\n",
      "c max 0.3659961208725915\n",
      "c min 0.35182945420592476\n",
      "n 0.91895117572486\n",
      "Fam_Size_Big\n",
      "c max 0.36907813145460205\n",
      "c min 0.35182945420592476\n",
      "n 0.91895117572486\n"
     ]
    }
   ],
   "source": [
    "\n",
    "ciu = determine_ciu(\n",
    "    test.iloc[0, :].to_dict(),\n",
    "    gs.predict_proba,\n",
    "    {\n",
    "        'Age': [0, 80, True],\n",
    "        'Fare': [0, 512, True],\n",
    "        'Name_Len': [0, 20000, True],\n",
    "        'Age_Null_Flag': [0, 1, True],\n",
    "        'Cabin_num_(1.999, 28.667]': [0, 1, True],\n",
    "        'Cabin_num_(28.667, 65.667]': [0, 1, True],\n",
    "        'Cabin_num_(65.667, 148.0]': [0, 1, True],\n",
    "        'Ticket_Len': [0, 50, True], 'Pclass_3': [0, 1, True], 'Pclass_1': [0, 1, True],\n",
    "        'Pclass_2': [0, 1, True], 'Pclass_3': [0, 1, True], 'Ticket_Len': [0, 1, True],\n",
    "        'Pclass_3': [0, 1, True], 'Sex_male': [0, 1, True], 'Sex_female': [0, 1, True],\n",
    "        'Embarked_S': [0, 1, True], 'Embarked_C': [0, 1, True], 'Embarked_Q': [0, 1, True],\n",
    "        'Cabin_Letter_n': [0, 1, True], 'Cabin_Letter_C': [0, 1, True], 'Cabin_Letter_E': [0, 1, True],\n",
    "        'Cabin_Letter_G': [0, 1, True], 'Cabin_Letter_D': [0, 1, True], 'Cabin_Letter_A': [0, 1, True],\n",
    "        'Cabin_Letter_B': [0, 1, True], 'Cabin_Letter_F': [0, 1, True], 'Name_Title_Mr.': [0, 1, True],\n",
    "        'Name_Title_Mrs.': [0, 1, True], 'Name_Title_Miss.': [0, 1, True], 'Name_Title_Master.': [0, 1, True],\n",
    "        'Name_Title_Rev.': [0, 1, True], 'Name_Title_Dr.': [0, 1, True], 'Name_Title_Ms.': [0, 1, True],\n",
    "        'Name_Title_Col.': [0, 1, True], 'Fam_Size_Nuclear': [0, 1, True], 'Fam_Size_Solo': [0, 1, True],\n",
    "        'Fam_Size_Big': [0, 1, True]\n",
    "        \n",
    "    },\n",
    "    1000,\n",
    "    prediction_index,\n",
    "    #category_mapping\n",
    ")"
   ]
  },
  {
   "cell_type": "code",
   "execution_count": 18,
   "metadata": {},
   "outputs": [
    {
     "name": "stderr",
     "output_type": "stream",
     "text": [
      "c:\\users\\sulea\\desktop\\py-ciu\\ciu\\ciu_object.py:44: UserWarning: Attempting to set identical bottom == top == 0 results in singular transformations; automatically expanding.\n",
      "  ax.imshow(grad, extent=[x, x + width, y, y + height], aspect=\"auto\")\n"
     ]
    },
    {
     "data": {
      "image/png": "[encoded data removed]",
      "text/plain": [
       "<Figure size 432x288 with 1 Axes>"
      ]
     },
     "metadata": {
      "needs_background": "light"
     },
     "output_type": "display_data"
    },
    {
     "data": {
      "image/png": "[encoded data removed]",
      "text/plain": [
       "<Figure size 432x288 with 1 Axes>"
      ]
     },
     "metadata": {
      "needs_background": "light"
     },
     "output_type": "display_data"
    }
   ],
   "source": [
    "ciu.plot_ci()"
   ]
  },
  {
   "cell_type": "code",
   "execution_count": 19,
   "metadata": {},
   "outputs": [
    {
     "ename": "MemoryError",
     "evalue": "",
     "output_type": "error",
     "traceback": [
      "\u001b[1;31m---------------------------------------------------------------------------\u001b[0m",
      "\u001b[1;31mMemoryError\u001b[0m                               Traceback (most recent call last)",
      "\u001b[1;32m<ipython-input-19-3580ed676ff3>\u001b[0m in \u001b[0;36m<module>\u001b[1;34m\u001b[0m\n\u001b[1;32m----> 1\u001b[1;33m \u001b[0mciu\u001b[0m\u001b[1;33m.\u001b[0m\u001b[0mplot_cu\u001b[0m\u001b[1;33m(\u001b[0m\u001b[1;33m)\u001b[0m\u001b[1;33m\u001b[0m\u001b[1;33m\u001b[0m\u001b[0m\n\u001b[0m",
      "\u001b[1;32mc:\\users\\sulea\\desktop\\py-ciu\\ciu\\ciu_object.py\u001b[0m in \u001b[0;36mplot_cu\u001b[1;34m(self)\u001b[0m\n\u001b[0;32m     59\u001b[0m     \u001b[1;32mdef\u001b[0m \u001b[0mplot_cu\u001b[0m\u001b[1;33m(\u001b[0m\u001b[0mself\u001b[0m\u001b[1;33m)\u001b[0m\u001b[1;33m:\u001b[0m\u001b[1;33m\u001b[0m\u001b[1;33m\u001b[0m\u001b[0m\n\u001b[0;32m     60\u001b[0m         \u001b[0mplt\u001b[0m\u001b[1;33m.\u001b[0m\u001b[0mtitle\u001b[0m\u001b[1;33m(\u001b[0m\u001b[1;34m'Contextual Utility'\u001b[0m\u001b[1;33m)\u001b[0m\u001b[1;33m\u001b[0m\u001b[1;33m\u001b[0m\u001b[0m\n\u001b[1;32m---> 61\u001b[1;33m         \u001b[0mself\u001b[0m\u001b[1;33m.\u001b[0m\u001b[0mplot\u001b[0m\u001b[1;33m(\u001b[0m\u001b[0mself\u001b[0m\u001b[1;33m.\u001b[0m\u001b[0mcu\u001b[0m\u001b[1;33m.\u001b[0m\u001b[0mvalues\u001b[0m\u001b[1;33m(\u001b[0m\u001b[1;33m)\u001b[0m\u001b[1;33m)\u001b[0m\u001b[1;33m\u001b[0m\u001b[1;33m\u001b[0m\u001b[0m\n\u001b[0m\u001b[0;32m     62\u001b[0m \u001b[1;33m\u001b[0m\u001b[0m\n\u001b[0;32m     63\u001b[0m     \u001b[1;32mdef\u001b[0m \u001b[0mtext_explain\u001b[0m\u001b[1;33m(\u001b[0m\u001b[0mself\u001b[0m\u001b[1;33m)\u001b[0m\u001b[1;33m:\u001b[0m\u001b[1;33m\u001b[0m\u001b[1;33m\u001b[0m\u001b[0m\n",
      "\u001b[1;32mc:\\users\\sulea\\desktop\\py-ciu\\ciu\\ciu_object.py\u001b[0m in \u001b[0;36mplot\u001b[1;34m(self, data)\u001b[0m\n\u001b[0;32m     41\u001b[0m             \u001b[0mx\u001b[0m\u001b[1;33m,\u001b[0m \u001b[0my\u001b[0m \u001b[1;33m=\u001b[0m \u001b[0mbar\u001b[0m\u001b[1;33m.\u001b[0m\u001b[0mget_xy\u001b[0m\u001b[1;33m(\u001b[0m\u001b[1;33m)\u001b[0m\u001b[1;33m\u001b[0m\u001b[1;33m\u001b[0m\u001b[0m\n\u001b[0;32m     42\u001b[0m             \u001b[0mwidth\u001b[0m\u001b[1;33m,\u001b[0m \u001b[0mheight\u001b[0m \u001b[1;33m=\u001b[0m \u001b[0mbar\u001b[0m\u001b[1;33m.\u001b[0m\u001b[0mget_width\u001b[0m\u001b[1;33m(\u001b[0m\u001b[1;33m)\u001b[0m\u001b[1;33m,\u001b[0m \u001b[0mbar\u001b[0m\u001b[1;33m.\u001b[0m\u001b[0mget_height\u001b[0m\u001b[1;33m(\u001b[0m\u001b[1;33m)\u001b[0m\u001b[1;33m\u001b[0m\u001b[1;33m\u001b[0m\u001b[0m\n\u001b[1;32m---> 43\u001b[1;33m             \u001b[0mgrad\u001b[0m \u001b[1;33m=\u001b[0m \u001b[0mnp\u001b[0m\u001b[1;33m.\u001b[0m\u001b[0matleast_2d\u001b[0m\u001b[1;33m(\u001b[0m\u001b[0mnp\u001b[0m\u001b[1;33m.\u001b[0m\u001b[0mlinspace\u001b[0m\u001b[1;33m(\u001b[0m\u001b[1;36m256\u001b[0m \u001b[1;33m**\u001b[0m \u001b[0mheight\u001b[0m\u001b[1;33m,\u001b[0m \u001b[1;36m1\u001b[0m\u001b[1;33m,\u001b[0m \u001b[1;36m256\u001b[0m \u001b[1;33m**\u001b[0m \u001b[0mheight\u001b[0m\u001b[1;33m)\u001b[0m\u001b[1;33m)\u001b[0m\u001b[1;33m.\u001b[0m\u001b[0mT\u001b[0m\u001b[1;33m\u001b[0m\u001b[1;33m\u001b[0m\u001b[0m\n\u001b[0m\u001b[0;32m     44\u001b[0m             \u001b[0max\u001b[0m\u001b[1;33m.\u001b[0m\u001b[0mimshow\u001b[0m\u001b[1;33m(\u001b[0m\u001b[0mgrad\u001b[0m\u001b[1;33m,\u001b[0m \u001b[0mextent\u001b[0m\u001b[1;33m=\u001b[0m\u001b[1;33m[\u001b[0m\u001b[0mx\u001b[0m\u001b[1;33m,\u001b[0m \u001b[0mx\u001b[0m \u001b[1;33m+\u001b[0m \u001b[0mwidth\u001b[0m\u001b[1;33m,\u001b[0m \u001b[0my\u001b[0m\u001b[1;33m,\u001b[0m \u001b[0my\u001b[0m \u001b[1;33m+\u001b[0m \u001b[0mheight\u001b[0m\u001b[1;33m]\u001b[0m\u001b[1;33m,\u001b[0m \u001b[0maspect\u001b[0m\u001b[1;33m=\u001b[0m\u001b[1;34m\"auto\"\u001b[0m\u001b[1;33m)\u001b[0m\u001b[1;33m\u001b[0m\u001b[1;33m\u001b[0m\u001b[0m\n\u001b[0;32m     45\u001b[0m         \u001b[0max\u001b[0m\u001b[1;33m.\u001b[0m\u001b[0maxis\u001b[0m\u001b[1;33m(\u001b[0m\u001b[0mlim\u001b[0m\u001b[1;33m)\u001b[0m\u001b[1;33m\u001b[0m\u001b[1;33m\u001b[0m\u001b[0m\n",
      "\u001b[1;32m~\\Anaconda3\\lib\\site-packages\\numpy\\core\\function_base.py\u001b[0m in \u001b[0;36mlinspace\u001b[1;34m(start, stop, num, endpoint, retstep, dtype, axis)\u001b[0m\n\u001b[0;32m    141\u001b[0m \u001b[1;33m\u001b[0m\u001b[0m\n\u001b[0;32m    142\u001b[0m     \u001b[0mdelta\u001b[0m \u001b[1;33m=\u001b[0m \u001b[0mstop\u001b[0m \u001b[1;33m-\u001b[0m \u001b[0mstart\u001b[0m\u001b[1;33m\u001b[0m\u001b[1;33m\u001b[0m\u001b[0m\n\u001b[1;32m--> 143\u001b[1;33m     \u001b[0my\u001b[0m \u001b[1;33m=\u001b[0m \u001b[0m_nx\u001b[0m\u001b[1;33m.\u001b[0m\u001b[0marange\u001b[0m\u001b[1;33m(\u001b[0m\u001b[1;36m0\u001b[0m\u001b[1;33m,\u001b[0m \u001b[0mnum\u001b[0m\u001b[1;33m,\u001b[0m \u001b[0mdtype\u001b[0m\u001b[1;33m=\u001b[0m\u001b[0mdt\u001b[0m\u001b[1;33m)\u001b[0m\u001b[1;33m.\u001b[0m\u001b[0mreshape\u001b[0m\u001b[1;33m(\u001b[0m\u001b[1;33m(\u001b[0m\u001b[1;33m-\u001b[0m\u001b[1;36m1\u001b[0m\u001b[1;33m,\u001b[0m\u001b[1;33m)\u001b[0m \u001b[1;33m+\u001b[0m \u001b[1;33m(\u001b[0m\u001b[1;36m1\u001b[0m\u001b[1;33m,\u001b[0m\u001b[1;33m)\u001b[0m \u001b[1;33m*\u001b[0m \u001b[0mndim\u001b[0m\u001b[1;33m(\u001b[0m\u001b[0mdelta\u001b[0m\u001b[1;33m)\u001b[0m\u001b[1;33m)\u001b[0m\u001b[1;33m\u001b[0m\u001b[1;33m\u001b[0m\u001b[0m\n\u001b[0m\u001b[0;32m    144\u001b[0m     \u001b[1;31m# In-place multiplication y *= delta/div is faster, but prevents the multiplicant\u001b[0m\u001b[1;33m\u001b[0m\u001b[1;33m\u001b[0m\u001b[1;33m\u001b[0m\u001b[0m\n\u001b[0;32m    145\u001b[0m     \u001b[1;31m# from overriding what class is produced, and thus prevents, e.g. use of Quantities,\u001b[0m\u001b[1;33m\u001b[0m\u001b[1;33m\u001b[0m\u001b[1;33m\u001b[0m\u001b[0m\n",
      "\u001b[1;31mMemoryError\u001b[0m: "
     ]
    },
    {
     "data": {
      "image/png": "[encoded data removed]",
      "text/plain": [
       "<Figure size 432x288 with 1 Axes>"
      ]
     },
     "metadata": {
      "needs_background": "light"
     },
     "output_type": "display_data"
    },
    {
     "data": {
      "image/png": "[encoded data removed]",
      "text/plain": [
       "<Figure size 432x288 with 1 Axes>"
      ]
     },
     "metadata": {
      "needs_background": "light"
     },
     "output_type": "display_data"
    }
   ],
   "source": [
    "ciu.plot_cu()"
   ]
  },
  {
   "cell_type": "code",
   "execution_count": null,
   "metadata": {},
   "outputs": [],
   "source": []
  }
 ],
 "metadata": {
  "kernelspec": {
   "display_name": "Python 3",
   "language": "python",
   "name": "python3"
  },
  "language_info": {
   "codemirror_mode": {
    "name": "ipython",
    "version": 3
   },
   "file_extension": ".py",
   "mimetype": "text/x-python",
   "name": "python",
   "nbconvert_exporter": "python",
   "pygments_lexer": "ipython3",
   "version": "3.7.3"
  }
 },
 "nbformat": 4,
 "nbformat_minor": 2
}
