{
 "cells": [
  {
   "cell_type": "markdown",
   "metadata": {},
   "source": [
    "# CIU - Example: Random Forest, Loan Application Classification\n",
    "This example demonstrates how to use Py-CIU to explain loan application classification decisions as made by a random forest. Let us first create a synthetic dataset of loan applications, with the features and their approval decisions. The dataset as the following features:\n",
    "\n",
    "* ``age``,\n",
    "* ``assets``\n",
    "* ``monthly_income``,\n",
    "* ``gender_female``,\n",
    "* ``gender_male``,\n",
    "* ``gender_other``,\n",
    "* ``job_type_fixed``,\n",
    "* ``job_type_none``,\n",
    "* ``job_type_permanent``.\n",
    "\n",
    "We import the third-party dependencies, Py-CIU, and a synthetic data generator: "
   ]
  },
  {
   "cell_type": "code",
   "execution_count": null,
   "metadata": {},
   "outputs": [],
   "source": [
    "!pip install -e ../\n",
    "!pip install sklearn"
   ]
  },
  {
   "cell_type": "code",
   "execution_count": null,
   "metadata": {},
   "outputs": [],
   "source": [
    "from sklearn.ensemble import RandomForestClassifier\n",
    "\n",
    "import project_path\n",
    "from ciu import determine_ciu\n",
    "from ciu_tests.data_generator import generate_data"
   ]
  },
  {
   "cell_type": "markdown",
   "metadata": {},
   "source": [
    "Now, we run the generator to create our dataset and use it to create a random forest classifier:"
   ]
  },
  {
   "cell_type": "code",
   "execution_count": null,
   "metadata": {},
   "outputs": [],
   "source": [
    "data = generate_data()\n",
    "train_data = data['train'][1]\n",
    "test_data = data\n",
    "test_data_encoded = data['test'][1].drop(['approved'], axis=1)\n",
    "random_forest = RandomForestClassifier(\n",
    "    n_estimators=1000,\n",
    "    random_state=42\n",
    ")\n",
    "\n",
    "labels = train_data[['approved']].values.ravel()\n",
    "data = train_data.drop(['approved'], axis=1)\n",
    "random_forest.fit(data, labels)\n",
    "\n"
   ]
  },
  {
   "cell_type": "markdown",
   "metadata": {},
   "source": [
    "Now, we take a case and classify it:"
   ]
  },
  {
   "cell_type": "code",
   "execution_count": null,
   "metadata": {},
   "outputs": [],
   "source": [
    "feature_names = [\n",
    "    'age', 'assets', 'monthly_income', 'gender_female', 'gender_male',\n",
    "    'gender_other', 'job_type_fixed', 'job_type_none', 'job_type_permanent'\n",
    "]\n",
    "\n",
    "case = test_data_encoded.values[0]\n",
    "example_prediction = random_forest.predict([test_data_encoded.values[0]])\n",
    "example_prediction_prob = random_forest.predict_proba([test_data_encoded.values[0]])\n",
    "print(feature_names)\n",
    "print(f'Case: {case}; Prediction {example_prediction}; Probability: {example_prediction_prob}')\n",
    "\n"
   ]
  },
  {
   "cell_type": "markdown",
   "metadata": {},
   "source": [
    "We call the CIU function. Note that this requires use to provide a mapping from \"raw data\" feature names to one-hot encoded feature names:"
   ]
  },
  {
   "cell_type": "code",
   "execution_count": null,
   "metadata": {},
   "outputs": [],
   "source": [
    "category_mapping = {\n",
    "    'gender': ['gender_female', 'gender_male', 'gender_other'],\n",
    "    'job_type': ['job_type_fixed', 'job_type_none', 'job_type_permanent']\n",
    "}\n",
    "ciu = determine_ciu(\n",
    "    test_data_encoded.values[0],\n",
    "    random_forest,\n",
    "    [\n",
    "        [20, 70, True], [-20000, 150000, True], [0, 20000, True],\n",
    "        [0, 1, True], [0, 1, True], [0, 1, True],\n",
    "        [0, 1, True], [0, 1, True], [0, 1, True]\n",
    "    ],\n",
    "    ['age', 'assets', 'monthly_income', 'gender_female', 'gender_male',\n",
    "        'gender_other', 'job_type_fixed', 'job_type_none', 'job_type_permanent'],\n",
    "    1000,\n",
    "    1,\n",
    "    category_mapping\n",
    ")"
   ]
  },
  {
   "cell_type": "markdown",
   "metadata": {},
   "source": [
    "Finally, we display the contextual importance () and utility () in different ways:"
   ]
  },
  {
   "cell_type": "code",
   "execution_count": null,
   "metadata": {},
   "outputs": [],
   "source": [
    "ciu.plot_ci()"
   ]
  },
  {
   "cell_type": "code",
   "execution_count": null,
   "metadata": {},
   "outputs": [],
   "source": [
    "ciu.plot_cu()"
   ]
  },
  {
   "cell_type": "code",
   "execution_count": null,
   "metadata": {},
   "outputs": [],
   "source": []
  }
 ],
 "metadata": {
  "kernelspec": {
   "display_name": "Python 3",
   "language": "python",
   "name": "python3"
  },
  "language_info": {
   "codemirror_mode": {
    "name": "ipython",
    "version": 3
   },
   "file_extension": ".py",
   "mimetype": "text/x-python",
   "name": "python",
   "nbconvert_exporter": "python",
   "pygments_lexer": "ipython3",
   "version": "3.7.5"
  }
 },
 "nbformat": 4,
 "nbformat_minor": 2
}
