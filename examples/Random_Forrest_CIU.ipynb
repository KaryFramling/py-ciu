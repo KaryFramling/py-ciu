{
 "cells": [
  {
   "cell_type": "markdown",
   "metadata": {},
   "source": [
    "# CIU - Example: Random Forest, Loan Application Classification\n",
    "This example demonstrates how to use Py-CIU to explain loan application classification decisions as made by a random forest. Let us first create a synthetic dataset of loan applications, with the features and their approval decisions. The dataset has the following features:\n",
    "\n",
    "* ``age``,\n",
    "* ``assets``\n",
    "* ``monthly_income``,\n",
    "* ``gender_female``,\n",
    "* ``gender_male``,\n",
    "* ``gender_other``,\n",
    "* ``job_type_fixed``,\n",
    "* ``job_type_none``,\n",
    "* ``job_type_permanent``.\n",
    "\n",
    "We import the third-party dependencies, Py-CIU, and a synthetic data generator: "
   ]
  },
  {
   "cell_type": "code",
   "execution_count": 2,
   "metadata": {},
   "outputs": [
    {
     "name": "stdout",
     "output_type": "stream",
     "text": [
      "Obtaining file:///Users/timotheuskampik/Desktop/github/py-ciu\n",
      "Installing collected packages: py-ciu\n",
      "  Found existing installation: py-ciu 0.0.1\n",
      "    Uninstalling py-ciu-0.0.1:\n",
      "      Successfully uninstalled py-ciu-0.0.1\n",
      "  Running setup.py develop for py-ciu\n",
      "Successfully installed py-ciu\n",
      "Requirement already satisfied: sklearn in /usr/local/lib/python3.7/site-packages (0.0)\n",
      "Requirement already satisfied: scikit-learn in /usr/local/lib/python3.7/site-packages (from sklearn) (0.21.3)\n",
      "Requirement already satisfied: numpy>=1.11.0 in /usr/local/lib/python3.7/site-packages (from scikit-learn->sklearn) (1.17.4)\n",
      "Requirement already satisfied: scipy>=0.17.0 in /usr/local/lib/python3.7/site-packages (from scikit-learn->sklearn) (1.3.1)\n",
      "Requirement already satisfied: joblib>=0.11 in /usr/local/lib/python3.7/site-packages (from scikit-learn->sklearn) (0.14.0)\n"
     ]
    }
   ],
   "source": [
    "!pip install -e ../\n",
    "!pip install sklearn"
   ]
  },
  {
   "cell_type": "code",
   "execution_count": 3,
   "metadata": {},
   "outputs": [],
   "source": [
    "from sklearn.ensemble import RandomForestClassifier\n",
    "\n",
    "import project_path\n",
    "from ciu import determine_ciu\n",
    "from ciu_tests.loan_data_generator import generate_data"
   ]
  },
  {
   "cell_type": "markdown",
   "metadata": {},
   "source": [
    "Now, we run the generator to create our dataset and use it to create a random forest classifier:"
   ]
  },
  {
   "cell_type": "code",
   "execution_count": 4,
   "metadata": {},
   "outputs": [
    {
     "data": {
      "text/plain": [
       "RandomForestClassifier(bootstrap=True, class_weight=None, criterion='gini',\n",
       "                       max_depth=None, max_features='auto', max_leaf_nodes=None,\n",
       "                       min_impurity_decrease=0.0, min_impurity_split=None,\n",
       "                       min_samples_leaf=1, min_samples_split=2,\n",
       "                       min_weight_fraction_leaf=0.0, n_estimators=1000,\n",
       "                       n_jobs=None, oob_score=False, random_state=42, verbose=0,\n",
       "                       warm_start=False)"
      ]
     },
     "execution_count": 4,
     "metadata": {},
     "output_type": "execute_result"
    }
   ],
   "source": [
    "data = generate_data()\n",
    "train_data = data['train'][1]\n",
    "test_data = data\n",
    "test_data_encoded = data['test'][1].drop(['approved'], axis=1)\n",
    "random_forest = RandomForestClassifier(\n",
    "    n_estimators=1000,\n",
    "    random_state=42\n",
    ")\n",
    "\n",
    "labels = train_data[['approved']].values.ravel()\n",
    "data = train_data.drop(['approved'], axis=1)\n",
    "random_forest.fit(data, labels)\n",
    "\n"
   ]
  },
  {
   "cell_type": "markdown",
   "metadata": {},
   "source": [
    "Now, we take a case and classify it:"
   ]
  },
  {
   "cell_type": "code",
   "execution_count": 5,
   "metadata": {},
   "outputs": [
    {
     "name": "stdout",
     "output_type": "stream",
     "text": [
      "['age', 'assets', 'monthly_income', 'gender_female', 'gender_male', 'gender_other', 'job_type_fixed', 'job_type_none', 'job_type_permanent']\n",
      "Case: [   35 -9898  8863     1     0     0     0     0     1]; Prediction [False]; Probability: [[0.989 0.011]]\n"
     ]
    }
   ],
   "source": [
    "\n",
    "feature_names = [\n",
    "    'age', 'assets', 'monthly_income', 'gender_female', 'gender_male',\n",
    "    'gender_other', 'job_type_fixed', 'job_type_none', 'job_type_permanent'\n",
    "]\n",
    "\n",
    "case = test_data_encoded.values[0]\n",
    "example_prediction = random_forest.predict([test_data_encoded.values[0]])\n",
    "example_prediction_prob = random_forest.predict_proba([test_data_encoded.values[0]])\n",
    "prediction_index = 0 if example_prediction[0] > 0.5 else 1\n",
    "\n",
    "print(feature_names)\n",
    "print(f'Case: {case}; Prediction {example_prediction}; Probability: {example_prediction_prob}')\n",
    "\n"
   ]
  },
  {
   "cell_type": "markdown",
   "metadata": {},
   "source": [
    "We call the CIU function. Note that this requires use to provide a mapping from \"raw data\" feature names to one-hot encoded feature names. Also, we want to evaluate the CIU not only of features, but also of the feature interaction *income/assets*."
   ]
  },
  {
   "cell_type": "code",
   "execution_count": 6,
   "metadata": {},
   "outputs": [
    {
     "name": "stdout",
     "output_type": "stream",
     "text": [
      "1.0 0.926 1.0 0.077 0.989\n",
      "0.8513513513513511\n",
      "0.989 0.135 1.0 0.077 0.989\n",
      "1.0\n",
      "1.0 0.945 1.0 0.077 0.989\n",
      "0.8\n",
      "0.989 0.981 1.0 0.077 0.989\n",
      "1.0\n",
      "0.989 0.965 1.0 0.077 0.989\n",
      "1.0\n"
     ]
    }
   ],
   "source": [
    "category_mapping = {\n",
    "    'gender': ['gender_female', 'gender_male', 'gender_other'],\n",
    "    'job_type': ['job_type_fixed', 'job_type_none', 'job_type_permanent']\n",
    "}\n",
    "\n",
    "feature_interactions = [{'assets_income': ['assets', 'monthly_income']}]\n",
    "\n",
    "ciu = determine_ciu(\n",
    "    test_data_encoded.iloc[0, :].to_dict(),\n",
    "    random_forest.predict_proba,\n",
    "    {\n",
    "        'age': [20, 70, True],\n",
    "        'assets': [-20000, 150000, True],\n",
    "        'monthly_income': [0, 20000, True],\n",
    "        'gender_female': [0, 1, True],\n",
    "        'gender_male': [0, 1, True],\n",
    "        'gender_other': [0, 1, True],\n",
    "        'job_type_fixed': [0, 1, True],\n",
    "        'job_type_none': [0, 1, True],\n",
    "        'job_type_permanent': [0, 1, True]\n",
    "    },\n",
    "    1000,\n",
    "    prediction_index,\n",
    "    category_mapping,\n",
    "    feature_interactions\n",
    ")\n"
   ]
  },
  {
   "cell_type": "markdown",
   "metadata": {},
   "source": [
    "Finally, we display the contextual importance (importance for class) and utility (typicality for class) in different ways:"
   ]
  },
  {
   "cell_type": "code",
   "execution_count": 7,
   "metadata": {},
   "outputs": [
    {
     "data": {
      "image/png": "[encoded data removed]",
      "text/plain": [
       "<Figure size 432x288 with 1 Axes>"
      ]
     },
     "metadata": {
      "needs_background": "light"
     },
     "output_type": "display_data"
    }
   ],
   "source": [
    "ciu.plot_ci()"
   ]
  },
  {
   "cell_type": "code",
   "execution_count": 8,
   "metadata": {},
   "outputs": [
    {
     "data": {
      "image/png": "[encoded data removed]",
      "text/plain": [
       "<Figure size 432x288 with 1 Axes>"
      ]
     },
     "metadata": {
      "needs_background": "light"
     },
     "output_type": "display_data"
    }
   ],
   "source": [
    "ciu.plot_cu()"
   ]
  },
  {
   "cell_type": "code",
   "execution_count": 8,
   "metadata": {},
   "outputs": [
    {
     "name": "stdout",
     "output_type": "stream",
     "text": [
      "['The feature \"age\", which is very important (CI=70.65%), is typical for its class (CU=58.62%).', 'The feature \"assets\", which is very important (CI=68.77%), is not typical for its class (CU=15.62%).', 'The feature \"monthly_income\", which is highly important (CI=79.84%), is unlikely for its class (CU=29.96%).', 'The feature \"gender\", which is not important (CI=7.42%), is very typical for its class (CU=100.0%).', 'The feature \"job_type\", which is not important (CI=5.09%), is not typical for its class (CU=0.1%).', 'The feature \"assets_income\", which is highly important (CI=83.39%), is unlikely for its class (CU=29.75%).', 'The feature \"assets_income\", which is highly important (CI=83.39%), is unlikely for its class (CU=29.75%).']\n"
     ]
    }
   ],
   "source": [
    "print(ciu.text_explain())"
   ]
  }
 ],
 "metadata": {
  "kernelspec": {
   "display_name": "Python 3",
   "language": "python",
   "name": "python3"
  },
  "language_info": {
   "codemirror_mode": {
    "name": "ipython",
    "version": 3
   },
   "file_extension": ".py",
   "mimetype": "text/x-python",
   "name": "python",
   "nbconvert_exporter": "python",
   "pygments_lexer": "ipython3",
   "version": "3.7.5"
  }
 },
 "nbformat": 4,
 "nbformat_minor": 2
}
